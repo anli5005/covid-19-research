{
 "cells": [
  {
   "cell_type": "code",
   "execution_count": 1,
   "metadata": {},
   "outputs": [],
   "source": [
    "import numpy as np\n",
    "import pandas as pd\n",
    "import sys\n",
    "import json\n",
    "import math\n",
    "from scipy import stats\n",
    "from dython.nominal import correlation_ratio"
   ]
  },
  {
   "cell_type": "code",
   "execution_count": 2,
   "metadata": {},
   "outputs": [],
   "source": [
    "df = pd.read_csv(\"data.csv\")"
   ]
  },
  {
   "cell_type": "code",
   "execution_count": 163,
   "metadata": {},
   "outputs": [],
   "source": [
    "case_np = {}\n",
    "states = []\n",
    "for state in df.state.unique():\n",
    "    s = False\n",
    "    for case_var in [\"cases\", \"log_cases\", \"diff_cases\", \"diff_log_cases\", \"class\", \"log_class\", \"diff_class\", \"diff_log_class\"]:\n",
    "        state_case_np = df[df[\"state\"] == state][case_var].to_numpy()[36:]\n",
    "        if case_var not in case_np:\n",
    "            case_np[case_var] = state_case_np\n",
    "        else:\n",
    "            case_np[case_var] = np.concatenate((case_np[case_var], state_case_np))\n",
    "    if not s:\n",
    "        states.append(state)\n",
    "for case_var in [\"cases\", \"log_cases\", \"diff_cases\", \"diff_log_cases\"]:\n",
    "    case_np[case_var] = (case_np[case_var] - np.min(case_np[case_var])) / (np.max(case_np[case_var]) - np.min(case_np[case_var]))"
   ]
  },
  {
   "cell_type": "code",
   "execution_count": 10,
   "metadata": {},
   "outputs": [
    {
     "name": "stdout",
     "output_type": "stream",
     "text": [
      "0.07589288504222154\n",
      "0.4674381858754229\n",
      "0.5164318159240201\n",
      "0.5344469085607013\n",
      "0.44524084333647174\n",
      "0.5181604217816674\n",
      "0.4898452253570869\n",
      "-0.07968136252808973\n",
      "0.12666738025648666\n",
      "-0.10066179360256737\n",
      "0.7234420962458478\n",
      "0.1577398775944326\n"
     ]
    }
   ],
   "source": [
    "### import statsmodels.formula.api as smf\n",
    "import statsmodels.stats.multicomp as multi\n",
    "\n",
    "#class_corr_df = pd.DataFrame(columns=[\"feature\", \"f\", \"p\", \"log_f\", \"log_p\", \"diff_f\", \"diff_p\", \"diff_log_f\", \"diff_log_p\"])\n",
    "\n",
    "df.rename(columns={\"class\": \"case_class\"}, inplace=True)\n",
    "#df_m = df.sample(frac=0.2)\n",
    "\n",
    "def max1(x):\n",
    "    return math.log(max(x, 1))\n",
    "\n",
    "i = 0\n",
    "for var in [\"tsa\", \"visits_hotels\", \"visits_restaurants\", \"visits_retail\", \"visits_personal_care\", \"visits_gyms\", \"visits_health\", \"temperature\", \"flu\", \"soc_dist\", \"tests\", \"hospitalized\"]:\n",
    "#for var in [\"tsa\"]:\n",
    "    #df[var] = (df[var] - np.min(df[var])) / (np.max(df[var]) - np.min(df[var]))\n",
    "    #df[var] = df[var].apply(max1)\n",
    "    #var_np = (var_np - np.min(var_np)) / (np.max(var_np) - np.min(var_np))\n",
    "    #row = [var]\n",
    "    #anova = smf.ols(formula=(\"%s ~ C(case_class)\" % var), data=df_m).fit()\n",
    "    #dependent variable first\n",
    "    #anova = smf.ols(formula=(\"logit(case_class) ~ %s\" % var), data=df).fit()\n",
    "    #anova = smf.mnlogit(formula=(\"case_class ~ %s\" % var), data=df).fit()\n",
    "    \n",
    "    #print(\"%s: %s\" % (var, anova.f_pvalue))\n",
    "    #print(correlation_ratio(df[\"case_class\"], df[var]))\n",
    "    print(\"%s\" % (stats.pearsonr(df[var], df[\"cases\"])[0]))\n",
    "    #class_corr_df.loc[i] = row\n",
    "    i += 1"
   ]
  }
 ],
 "metadata": {
  "kernelspec": {
   "display_name": "Python 3",
   "language": "python",
   "name": "python3"
  },
  "language_info": {
   "codemirror_mode": {
    "name": "ipython",
    "version": 3
   },
   "file_extension": ".py",
   "mimetype": "text/x-python",
   "name": "python",
   "nbconvert_exporter": "python",
   "pygments_lexer": "ipython3",
   "version": "3.8.5"
  }
 },
 "nbformat": 4,
 "nbformat_minor": 4
}
