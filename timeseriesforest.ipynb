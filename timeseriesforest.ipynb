{
 "cells": [
  {
   "cell_type": "code",
   "execution_count": 1,
   "metadata": {},
   "outputs": [
    {
     "name": "stderr",
     "output_type": "stream",
     "text": [
      "/home/anli5005/miniconda3/envs/r/lib/python3.8/site-packages/numba/np/ufunc/parallel.py:363: NumbaWarning: The TBB threading layer requires TBB version 2019.5 or later i.e., TBB_INTERFACE_VERSION >= 11005. Found TBB_INTERFACE_VERSION = 9107. The TBB threading layer is disabled.\n",
      "  warnings.warn(problem)\n"
     ]
    }
   ],
   "source": [
    "import numpy as np\n",
    "import pandas as pd\n",
    "import sys\n",
    "import json\n",
    "import math\n",
    "from sklearn import svm\n",
    "from sklearn.model_selection import train_test_split\n",
    "from sktime.classification.compose import TimeSeriesForestClassifier\n",
    "from sktime.utils.slope_and_trend import _slope\n",
    "from sklearn.tree import DecisionTreeClassifier\n",
    "from sklearn.pipeline import Pipeline\n",
    "from sklearn.ensemble import RandomForestClassifier\n",
    "from hmmlearn.hmm import GaussianHMM\n",
    "from sktime.classification.all import TimeSeriesForest\n",
    "from sktime.transformations.panel.compose import ColumnConcatenator\n",
    "from sklearn.preprocessing import MinMaxScaler"
   ]
  },
  {
   "cell_type": "code",
   "execution_count": 5,
   "metadata": {},
   "outputs": [],
   "source": [
    "df = pd.read_csv(\"data2.csv\")"
   ]
  },
  {
   "cell_type": "code",
   "execution_count": 3,
   "metadata": {},
   "outputs": [],
   "source": [
    "def construct_model():\n",
    "    steps = [\n",
    "        (\"concatenate\", ColumnConcatenator()),\n",
    "        (\"classify\", TimeSeriesForest()),\n",
    "    ]\n",
    "    return Pipeline(steps, verbose=1)"
   ]
  },
  {
   "cell_type": "code",
   "execution_count": 4,
   "metadata": {},
   "outputs": [],
   "source": [
    "cols = [\"class\", \"tsa\", \"visits_hotels\", \"visits_restaurants\", \"visits_retail\", \"visits_personal_care\", \"visits_gyms\", \"visits_health\", \"temperature\", \"flu\", \"tests\", \"hospitalized\", \"svi\", \"density\"]"
   ]
  },
  {
   "cell_type": "code",
   "execution_count": 6,
   "metadata": {},
   "outputs": [],
   "source": [
    "y_series = df[\"class\"]\n",
    "X_series = df.copy()\n",
    "wind = 14\n",
    "min_max_scaler = MinMaxScaler()\n",
    "for col in cols:\n",
    "    X_series[[col]] = min_max_scaler.fit_transform(X_series[[col]])\n",
    "X = np.empty((len(df) - wind, wind, len(cols)))\n",
    "include_set = []\n",
    "for i in range(len(df) - wind):\n",
    "    X[i] = np.array(X_series[cols][i:i+wind])\n",
    "    include_set.append(len(X_series[\"state\"][i:i+wind].unique()) == 1)\n",
    "\n",
    "X = X[include_set]\n",
    "\n",
    "y = np.array(y_series[wind:])\n",
    "y = y[include_set]"
   ]
  },
  {
   "cell_type": "code",
   "execution_count": 7,
   "metadata": {},
   "outputs": [],
   "source": [
    "X_train, X_test, y_train, y_test = train_test_split(X, y, test_size=0.25)"
   ]
  },
  {
   "cell_type": "code",
   "execution_count": 8,
   "metadata": {},
   "outputs": [],
   "source": [
    "from sklearn.metrics import f1_score, balanced_accuracy_score, make_scorer, plot_roc_curve\n",
    "f1_scorer = make_scorer(f1_score, average=\"micro\")"
   ]
  },
  {
   "cell_type": "code",
   "execution_count": 9,
   "metadata": {},
   "outputs": [
    {
     "name": "stdout",
     "output_type": "stream",
     "text": [
      "[Pipeline] ....... (step 1 of 2) Processing concatenate, total=   0.8s\n",
      "[Pipeline] .......... (step 2 of 2) Processing classify, total= 8.1min\n",
      "[Pipeline] ....... (step 1 of 2) Processing concatenate, total=   0.8s\n",
      "[Pipeline] .......... (step 2 of 2) Processing classify, total= 8.1min\n",
      "[Pipeline] ....... (step 1 of 2) Processing concatenate, total=   0.8s\n",
      "[Pipeline] .......... (step 2 of 2) Processing classify, total= 8.1min\n",
      "[Pipeline] ....... (step 1 of 2) Processing concatenate, total=   0.8s\n",
      "[Pipeline] .......... (step 2 of 2) Processing classify, total= 7.6min\n",
      "[Pipeline] ....... (step 1 of 2) Processing concatenate, total=   0.6s\n",
      "[Pipeline] .......... (step 2 of 2) Processing classify, total= 6.5min\n",
      "[Pipeline] ....... (step 1 of 2) Processing concatenate, total=   0.6s\n",
      "[Pipeline] .......... (step 2 of 2) Processing classify, total= 6.4min\n",
      "[Pipeline] ....... (step 1 of 2) Processing concatenate, total=   0.6s\n",
      "[Pipeline] .......... (step 2 of 2) Processing classify, total= 6.5min\n",
      "[Pipeline] ....... (step 1 of 2) Processing concatenate, total=   0.6s\n",
      "[Pipeline] .......... (step 2 of 2) Processing classify, total= 6.5min\n",
      "[Pipeline] ....... (step 1 of 2) Processing concatenate, total=   0.6s\n",
      "[Pipeline] .......... (step 2 of 2) Processing classify, total= 6.5min\n",
      "[Pipeline] ....... (step 1 of 2) Processing concatenate, total=   0.6s\n",
      "[Pipeline] .......... (step 2 of 2) Processing classify, total= 6.5min\n"
     ]
    }
   ],
   "source": [
    "models = []\n",
    "scores = []\n",
    "for i in range(10):\n",
    "    model = construct_model()\n",
    "    model.fit(X_train, y_train)\n",
    "    models.append(model)"
   ]
  },
  {
   "cell_type": "code",
   "execution_count": 11,
   "metadata": {},
   "outputs": [
    {
     "name": "stdout",
     "output_type": "stream",
     "text": [
      "0.7857142857142857\n",
      "0.7905328798185941\n",
      "0.7857142857142857\n",
      "0.7939342403628118\n",
      "0.7865646258503401\n",
      "0.7899659863945578\n",
      "0.7803287981859411\n",
      "0.7936507936507936\n",
      "0.7893990929705215\n",
      "0.7851473922902494\n"
     ]
    }
   ],
   "source": [
    "for i in range(10):\n",
    "    print(f1_scorer(models[i], X_test, y_test))"
   ]
  },
  {
   "cell_type": "code",
   "execution_count": null,
   "metadata": {},
   "outputs": [],
   "source": [
    "y"
   ]
  },
  {
   "cell_type": "code",
   "execution_count": 13,
   "metadata": {},
   "outputs": [
    {
     "data": {
      "text/plain": [
       "0.7880952380952381"
      ]
     },
     "execution_count": 13,
     "metadata": {},
     "output_type": "execute_result"
    }
   ],
   "source": [
    "np.mean([float(x) for x in \"\"\"0.7857142857142857\n",
    "0.7905328798185941\n",
    "0.7857142857142857\n",
    "0.7939342403628118\n",
    "0.7865646258503401\n",
    "0.7899659863945578\n",
    "0.7803287981859411\n",
    "0.7936507936507936\n",
    "0.7893990929705215\n",
    "0.7851473922902494\"\"\".split(\"\\n\")])"
   ]
  },
  {
   "cell_type": "code",
   "execution_count": 8,
   "metadata": {},
   "outputs": [
    {
     "data": {
      "text/plain": [
       "0.9763305222875771"
      ]
     },
     "execution_count": 8,
     "metadata": {},
     "output_type": "execute_result"
    }
   ],
   "source": [
    "clf.score(X, y)"
   ]
  },
  {
   "cell_type": "code",
   "execution_count": 172,
   "metadata": {},
   "outputs": [],
   "source": [
    "from sktime.datasets import load_arrow_head\n",
    "X, y = load_arrow_head(return_X_y=True)\n",
    "X_train, X_test, y_train, y_test = train_test_split(X, y)"
   ]
  },
  {
   "cell_type": "code",
   "execution_count": 173,
   "metadata": {},
   "outputs": [
    {
     "data": {
      "text/plain": [
       "(53,)"
      ]
     },
     "execution_count": 173,
     "metadata": {},
     "output_type": "execute_result"
    }
   ],
   "source": [
    "y_test.shape"
   ]
  },
  {
   "cell_type": "code",
   "execution_count": 52,
   "metadata": {},
   "outputs": [],
   "source": [
    "# Random Forest: 0.9489230769230769\n",
    "# RISE: 0.7989331144850226"
   ]
  },
  {
   "cell_type": "code",
   "execution_count": null,
   "metadata": {},
   "outputs": [],
   "source": []
  },
  {
   "cell_type": "code",
   "execution_count": null,
   "metadata": {},
   "outputs": [],
   "source": []
  },
  {
   "cell_type": "code",
   "execution_count": null,
   "metadata": {},
   "outputs": [],
   "source": []
  },
  {
   "cell_type": "code",
   "execution_count": null,
   "metadata": {},
   "outputs": [],
   "source": []
  },
  {
   "cell_type": "code",
   "execution_count": null,
   "metadata": {},
   "outputs": [],
   "source": []
  },
  {
   "cell_type": "code",
   "execution_count": null,
   "metadata": {},
   "outputs": [],
   "source": []
  },
  {
   "cell_type": "code",
   "execution_count": null,
   "metadata": {},
   "outputs": [],
   "source": []
  },
  {
   "cell_type": "code",
   "execution_count": null,
   "metadata": {},
   "outputs": [],
   "source": []
  },
  {
   "cell_type": "code",
   "execution_count": null,
   "metadata": {},
   "outputs": [],
   "source": []
  },
  {
   "cell_type": "code",
   "execution_count": null,
   "metadata": {},
   "outputs": [],
   "source": []
  },
  {
   "cell_type": "code",
   "execution_count": null,
   "metadata": {},
   "outputs": [],
   "source": []
  },
  {
   "cell_type": "code",
   "execution_count": null,
   "metadata": {},
   "outputs": [],
   "source": []
  },
  {
   "cell_type": "code",
   "execution_count": null,
   "metadata": {},
   "outputs": [],
   "source": []
  },
  {
   "cell_type": "code",
   "execution_count": null,
   "metadata": {},
   "outputs": [],
   "source": []
  },
  {
   "cell_type": "code",
   "execution_count": null,
   "metadata": {},
   "outputs": [],
   "source": []
  },
  {
   "cell_type": "code",
   "execution_count": null,
   "metadata": {},
   "outputs": [],
   "source": []
  },
  {
   "cell_type": "code",
   "execution_count": null,
   "metadata": {},
   "outputs": [],
   "source": []
  },
  {
   "cell_type": "code",
   "execution_count": null,
   "metadata": {},
   "outputs": [],
   "source": []
  },
  {
   "cell_type": "code",
   "execution_count": null,
   "metadata": {},
   "outputs": [],
   "source": []
  },
  {
   "cell_type": "code",
   "execution_count": null,
   "metadata": {},
   "outputs": [],
   "source": []
  },
  {
   "cell_type": "code",
   "execution_count": null,
   "metadata": {},
   "outputs": [],
   "source": []
  },
  {
   "cell_type": "code",
   "execution_count": null,
   "metadata": {},
   "outputs": [],
   "source": []
  },
  {
   "cell_type": "code",
   "execution_count": null,
   "metadata": {},
   "outputs": [],
   "source": []
  },
  {
   "cell_type": "code",
   "execution_count": null,
   "metadata": {},
   "outputs": [],
   "source": []
  },
  {
   "cell_type": "code",
   "execution_count": null,
   "metadata": {},
   "outputs": [],
   "source": []
  },
  {
   "cell_type": "code",
   "execution_count": null,
   "metadata": {},
   "outputs": [],
   "source": []
  },
  {
   "cell_type": "code",
   "execution_count": null,
   "metadata": {},
   "outputs": [],
   "source": []
  },
  {
   "cell_type": "code",
   "execution_count": null,
   "metadata": {},
   "outputs": [],
   "source": []
  },
  {
   "cell_type": "code",
   "execution_count": null,
   "metadata": {},
   "outputs": [],
   "source": []
  },
  {
   "cell_type": "code",
   "execution_count": null,
   "metadata": {},
   "outputs": [],
   "source": []
  },
  {
   "cell_type": "code",
   "execution_count": null,
   "metadata": {},
   "outputs": [],
   "source": []
  }
 ],
 "metadata": {
  "kernelspec": {
   "display_name": "Python 3",
   "language": "python",
   "name": "python3"
  },
  "language_info": {
   "codemirror_mode": {
    "name": "ipython",
    "version": 3
   },
   "file_extension": ".py",
   "mimetype": "text/x-python",
   "name": "python",
   "nbconvert_exporter": "python",
   "pygments_lexer": "ipython3",
   "version": "3.8.5"
  }
 },
 "nbformat": 4,
 "nbformat_minor": 4
}
