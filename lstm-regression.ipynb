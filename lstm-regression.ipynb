{
 "cells": [
  {
   "cell_type": "code",
   "execution_count": 2,
   "metadata": {},
   "outputs": [],
   "source": [
    "import numpy as np\n",
    "import pandas as pd\n",
    "import math\n",
    "from sklearn.model_selection import train_test_split\n",
    "import tensorflow as tf\n",
    "import tensorflow_addons as tfa\n",
    "from sklearn.preprocessing import MinMaxScaler"
   ]
  },
  {
   "cell_type": "code",
   "execution_count": 3,
   "metadata": {},
   "outputs": [],
   "source": [
    "df = pd.read_csv(\"data.csv\")"
   ]
  },
  {
   "cell_type": "code",
   "execution_count": 73,
   "metadata": {},
   "outputs": [],
   "source": [
    "cases_col = \"cases\"\n",
    "cols = [cases_col, \"tsa\", \"visits_hotels\", \"visits_restaurants\", \"visits_retail\", \"visits_personal_care\", \"visits_gyms\", \"visits_health\", \"temperature\", \"flu\", \"tests\", \"hospitalized\"]\n",
    "state_cols = [\"density\", \"svi\"]"
   ]
  },
  {
   "cell_type": "code",
   "execution_count": 335,
   "metadata": {},
   "outputs": [
    {
     "name": "stdout",
     "output_type": "stream",
     "text": [
      "0 0 Washington\n",
      "268 1 Illinois\n",
      "536 2 California\n",
      "804 3 Arizona\n",
      "1072 4 Massachusetts\n",
      "1340 5 Wisconsin\n",
      "1608 6 Texas\n",
      "1876 7 Nebraska\n",
      "2144 8 Utah\n",
      "2412 9 Oregon\n",
      "2680 10 Florida\n",
      "2948 11 New York\n",
      "3216 12 Rhode Island\n",
      "3484 13 Georgia\n",
      "3751 14 New Hampshire\n",
      "4018 15 North Carolina\n",
      "4284 16 New Jersey\n",
      "4549 17 Colorado\n",
      "4813 18 Maryland\n",
      "5077 19 Nevada\n",
      "5341 20 Tennessee\n",
      "5605 21 Hawaii\n",
      "5868 22 Indiana\n",
      "6131 23 Kentucky\n",
      "6394 24 Minnesota\n",
      "6657 25 Oklahoma\n",
      "6920 26 Pennsylvania\n",
      "7183 27 South Carolina\n",
      "7446 28 District of Columbia\n",
      "7708 29 Kansas\n",
      "7970 30 Missouri\n",
      "8232 31 Vermont\n",
      "8494 32 Virginia\n",
      "8756 33 Connecticut\n",
      "9017 34 Iowa\n",
      "9278 35 Louisiana\n",
      "9538 36 Ohio\n",
      "9798 37 Michigan\n",
      "10057 38 South Dakota\n",
      "10316 39 Arkansas\n",
      "10574 40 Delaware\n",
      "10832 41 Mississippi\n",
      "11090 42 New Mexico\n",
      "11348 43 North Dakota\n",
      "11606 44 Wyoming\n",
      "11864 45 Alaska\n",
      "12121 46 Maine\n",
      "12378 47 Alabama\n",
      "12634 48 Idaho\n",
      "12890 49 Montana\n",
      "13146 50 West Virginia\n"
     ]
    }
   ],
   "source": [
    "X_series = df.copy()\n",
    "wind = 14\n",
    "num_classes = 10\n",
    "min_max_scaler = MinMaxScaler()\n",
    "X_series[[cases_col]] = X_series[[cases_col]].clip(lower=0)\n",
    "for col in cols + state_cols:\n",
    "    X_series[[col]] = min_max_scaler.fit_transform(X_series[[col]])\n",
    "X = np.empty((len(df) - wind - 14, wind, len(cols)))\n",
    "y = np.empty((len(df) - wind - 14, 14))\n",
    "include_set = []\n",
    "include2_set = []\n",
    "last_state = \"\"\n",
    "j = 0\n",
    "state_i = 0\n",
    "for i in range(len(df) - wind - 14):\n",
    "    X[i] = np.array(X_series[cols][i:i+wind])\n",
    "    y[i] = np.array(X_series[cases_col][i+wind:i+wind+14])\n",
    "    include_set.append(len(X_series[\"state\"][i:i+wind+14].unique()) == 1)\n",
    "    include2_set.append(not include_set[i] and len(X_series[\"state\"][i:i+wind].unique()) == 1 and len(X_series[\"state\"][i+wind:i+wind+14].unique()) == 1)\n",
    "    if include_set[i] and X_series[\"state\"][i] != last_state:\n",
    "        last_state = X_series[\"state\"][i]\n",
    "        print(\"%d %d %s\" % (j, state_i, last_state))\n",
    "        state_i += 1\n",
    "    if include_set[i]:\n",
    "        j += 1\n",
    "X_u = X[include2_set]\n",
    "y_u = y[include2_set]\n",
    "X = X[include_set]\n",
    "y = y[include_set]\n",
    "    \n",
    "X_state = np.array(X_series[state_cols][(wind-1):-15])\n",
    "X_su = X_state[include2_set]\n",
    "X_state = X_state[include_set]"
   ]
  },
  {
   "cell_type": "code",
   "execution_count": 336,
   "metadata": {},
   "outputs": [],
   "source": [
    "X_train, X_test, X_state_train, X_state_test, y_train, y_test = train_test_split(X, X_state, y, test_size=0.25, shuffle=False)"
   ]
  },
  {
   "cell_type": "code",
   "execution_count": 325,
   "metadata": {},
   "outputs": [],
   "source": [
    "def construct_model():\n",
    "    feat_inputs = tf.keras.Input(shape=(wind, 12))\n",
    "    state_inputs = tf.keras.Input(shape=(2))\n",
    "    lstm = tf.keras.layers.LSTM(60, return_sequences=True, input_shape=(wind, 12))\n",
    "    lstm_out = lstm(feat_inputs)\n",
    "    dropout2 = tf.keras.layers.Dropout(0.2)\n",
    "    dropout2_out = dropout2(lstm_out)\n",
    "    lstm2 = tf.keras.layers.LSTM(60, return_sequences=True)\n",
    "    lstm2_out = lstm2(dropout2_out)\n",
    "    dense1 = tf.keras.layers.Dense(3)\n",
    "    dense1_out = dense1(state_inputs)\n",
    "    concat = tf.keras.layers.concatenate((tf.keras.layers.Flatten()(lstm2_out), dense1_out), axis=1)\n",
    "    dropout = tf.keras.layers.Dropout(0.2)\n",
    "    dropout_out = dropout(concat)\n",
    "    dense2 = tf.keras.layers.Dense(14, activation=\"relu\")\n",
    "    dense2_out = dense2(dropout_out)\n",
    "    model = tf.keras.Model(inputs=(feat_inputs, state_inputs), outputs=dense2_out, name=\"model\")\n",
    "    model.compile(loss=tf.losses.MeanSquaredError(),\n",
    "                optimizer=tf.optimizers.Adam(),\n",
    "                metrics=[tf.metrics.MeanSquaredError(), tf.metrics.MeanAbsoluteError()])\n",
    "    return model"
   ]
  },
  {
   "cell_type": "code",
   "execution_count": 326,
   "metadata": {},
   "outputs": [
    {
     "name": "stdout",
     "output_type": "stream",
     "text": [
      "Model: \"model\"\n",
      "__________________________________________________________________________________________________\n",
      "Layer (type)                    Output Shape         Param #     Connected to                     \n",
      "==================================================================================================\n",
      "input_40 (InputLayer)           [(None, 14, 12)]     0                                            \n",
      "__________________________________________________________________________________________________\n",
      "lstm_35 (LSTM)                  (None, 14, 60)       17520       input_40[0][0]                   \n",
      "__________________________________________________________________________________________________\n",
      "dropout_30 (Dropout)            (None, 14, 60)       0           lstm_35[0][0]                    \n",
      "__________________________________________________________________________________________________\n",
      "lstm_36 (LSTM)                  (None, 14, 60)       29040       dropout_30[0][0]                 \n",
      "__________________________________________________________________________________________________\n",
      "input_41 (InputLayer)           [(None, 2)]          0                                            \n",
      "__________________________________________________________________________________________________\n",
      "flatten_6 (Flatten)             (None, 840)          0           lstm_36[0][0]                    \n",
      "__________________________________________________________________________________________________\n",
      "dense_30 (Dense)                (None, 3)            9           input_41[0][0]                   \n",
      "__________________________________________________________________________________________________\n",
      "concatenate_16 (Concatenate)    (None, 843)          0           flatten_6[0][0]                  \n",
      "                                                                 dense_30[0][0]                   \n",
      "__________________________________________________________________________________________________\n",
      "dropout_31 (Dropout)            (None, 843)          0           concatenate_16[0][0]             \n",
      "__________________________________________________________________________________________________\n",
      "dense_31 (Dense)                (None, 14)           11816       dropout_31[0][0]                 \n",
      "==================================================================================================\n",
      "Total params: 58,385\n",
      "Trainable params: 58,385\n",
      "Non-trainable params: 0\n",
      "__________________________________________________________________________________________________\n"
     ]
    }
   ],
   "source": [
    "model = construct_model()\n",
    "model.summary()"
   ]
  },
  {
   "cell_type": "code",
   "execution_count": 327,
   "metadata": {},
   "outputs": [
    {
     "name": "stdout",
     "output_type": "stream",
     "text": [
      "Epoch 1/30\n",
      "628/628 [==============================] - 6s 7ms/step - loss: 0.0013 - mean_squared_error: 0.0013 - mean_absolute_error: 0.0216 - val_loss: 6.5325e-05 - val_mean_squared_error: 6.5325e-05 - val_mean_absolute_error: 0.0056\n",
      "Epoch 2/30\n",
      "628/628 [==============================] - 4s 6ms/step - loss: 5.3882e-04 - mean_squared_error: 5.3882e-04 - mean_absolute_error: 0.0127 - val_loss: 6.4363e-05 - val_mean_squared_error: 6.4363e-05 - val_mean_absolute_error: 0.0053\n",
      "Epoch 3/30\n",
      "628/628 [==============================] - 4s 6ms/step - loss: 4.2648e-04 - mean_squared_error: 4.2648e-04 - mean_absolute_error: 0.0115 - val_loss: 3.0956e-05 - val_mean_squared_error: 3.0956e-05 - val_mean_absolute_error: 0.0038\n",
      "Epoch 4/30\n",
      "628/628 [==============================] - 4s 6ms/step - loss: 3.7053e-04 - mean_squared_error: 3.7053e-04 - mean_absolute_error: 0.0107 - val_loss: 2.8418e-05 - val_mean_squared_error: 2.8418e-05 - val_mean_absolute_error: 0.0033\n",
      "Epoch 5/30\n",
      "628/628 [==============================] - 4s 6ms/step - loss: 3.9025e-04 - mean_squared_error: 3.9025e-04 - mean_absolute_error: 0.0110 - val_loss: 4.6574e-05 - val_mean_squared_error: 4.6574e-05 - val_mean_absolute_error: 0.0043\n",
      "Epoch 6/30\n",
      "628/628 [==============================] - 4s 6ms/step - loss: 3.7918e-04 - mean_squared_error: 3.7918e-04 - mean_absolute_error: 0.0108 - val_loss: 4.0890e-05 - val_mean_squared_error: 4.0890e-05 - val_mean_absolute_error: 0.0046\n",
      "Epoch 7/30\n",
      "628/628 [==============================] - 4s 6ms/step - loss: 2.9812e-04 - mean_squared_error: 2.9812e-04 - mean_absolute_error: 0.0097 - val_loss: 2.9615e-05 - val_mean_squared_error: 2.9615e-05 - val_mean_absolute_error: 0.0038\n",
      "Epoch 8/30\n",
      "628/628 [==============================] - 4s 6ms/step - loss: 3.1491e-04 - mean_squared_error: 3.1491e-04 - mean_absolute_error: 0.0098 - val_loss: 2.1108e-05 - val_mean_squared_error: 2.1108e-05 - val_mean_absolute_error: 0.0032\n",
      "Epoch 9/30\n",
      "628/628 [==============================] - 4s 6ms/step - loss: 2.8136e-04 - mean_squared_error: 2.8136e-04 - mean_absolute_error: 0.0092 - val_loss: 4.7511e-05 - val_mean_squared_error: 4.7511e-05 - val_mean_absolute_error: 0.0047\n",
      "Epoch 10/30\n",
      "628/628 [==============================] - 4s 6ms/step - loss: 2.4356e-04 - mean_squared_error: 2.4356e-04 - mean_absolute_error: 0.0090 - val_loss: 2.2418e-05 - val_mean_squared_error: 2.2418e-05 - val_mean_absolute_error: 0.0031\n",
      "Epoch 11/30\n",
      "628/628 [==============================] - 4s 6ms/step - loss: 2.0981e-04 - mean_squared_error: 2.0981e-04 - mean_absolute_error: 0.0085 - val_loss: 4.6033e-05 - val_mean_squared_error: 4.6033e-05 - val_mean_absolute_error: 0.0048\n",
      "Epoch 12/30\n",
      "628/628 [==============================] - 4s 6ms/step - loss: 2.1787e-04 - mean_squared_error: 2.1787e-04 - mean_absolute_error: 0.0086 - val_loss: 3.9576e-05 - val_mean_squared_error: 3.9576e-05 - val_mean_absolute_error: 0.0044\n",
      "Epoch 13/30\n",
      "628/628 [==============================] - 4s 6ms/step - loss: 1.8680e-04 - mean_squared_error: 1.8680e-04 - mean_absolute_error: 0.0081 - val_loss: 2.4268e-05 - val_mean_squared_error: 2.4268e-05 - val_mean_absolute_error: 0.0033\n",
      "Epoch 14/30\n",
      "628/628 [==============================] - 4s 6ms/step - loss: 3.5401e-04 - mean_squared_error: 3.5401e-04 - mean_absolute_error: 0.0102 - val_loss: 2.7326e-05 - val_mean_squared_error: 2.7326e-05 - val_mean_absolute_error: 0.0037\n",
      "Epoch 15/30\n",
      "628/628 [==============================] - 4s 6ms/step - loss: 2.1507e-04 - mean_squared_error: 2.1507e-04 - mean_absolute_error: 0.0084 - val_loss: 3.3254e-05 - val_mean_squared_error: 3.3254e-05 - val_mean_absolute_error: 0.0045\n",
      "Epoch 16/30\n",
      "628/628 [==============================] - 4s 6ms/step - loss: 1.9732e-04 - mean_squared_error: 1.9732e-04 - mean_absolute_error: 0.0083 - val_loss: 2.6598e-05 - val_mean_squared_error: 2.6598e-05 - val_mean_absolute_error: 0.0038\n",
      "Epoch 17/30\n",
      "628/628 [==============================] - 4s 6ms/step - loss: 1.8031e-04 - mean_squared_error: 1.8031e-04 - mean_absolute_error: 0.0078 - val_loss: 2.6613e-05 - val_mean_squared_error: 2.6613e-05 - val_mean_absolute_error: 0.0036\n",
      "Epoch 18/30\n",
      "628/628 [==============================] - 4s 6ms/step - loss: 1.8873e-04 - mean_squared_error: 1.8873e-04 - mean_absolute_error: 0.0081 - val_loss: 4.0725e-05 - val_mean_squared_error: 4.0725e-05 - val_mean_absolute_error: 0.0046\n",
      "Epoch 19/30\n",
      "628/628 [==============================] - 4s 6ms/step - loss: 2.5097e-04 - mean_squared_error: 2.5097e-04 - mean_absolute_error: 0.0089 - val_loss: 2.1560e-05 - val_mean_squared_error: 2.1560e-05 - val_mean_absolute_error: 0.0032\n",
      "Epoch 20/30\n",
      "628/628 [==============================] - 4s 6ms/step - loss: 1.8559e-04 - mean_squared_error: 1.8559e-04 - mean_absolute_error: 0.0079 - val_loss: 2.3299e-05 - val_mean_squared_error: 2.3299e-05 - val_mean_absolute_error: 0.0034\n",
      "Epoch 21/30\n",
      "628/628 [==============================] - 4s 6ms/step - loss: 1.7778e-04 - mean_squared_error: 1.7778e-04 - mean_absolute_error: 0.0078 - val_loss: 1.5201e-05 - val_mean_squared_error: 1.5201e-05 - val_mean_absolute_error: 0.0025\n",
      "Epoch 22/30\n",
      "628/628 [==============================] - 4s 6ms/step - loss: 1.8630e-04 - mean_squared_error: 1.8630e-04 - mean_absolute_error: 0.0079 - val_loss: 2.4553e-05 - val_mean_squared_error: 2.4553e-05 - val_mean_absolute_error: 0.0035\n",
      "Epoch 23/30\n",
      "628/628 [==============================] - 4s 6ms/step - loss: 1.6053e-04 - mean_squared_error: 1.6053e-04 - mean_absolute_error: 0.0076 - val_loss: 3.6705e-05 - val_mean_squared_error: 3.6705e-05 - val_mean_absolute_error: 0.0048\n",
      "Epoch 24/30\n",
      "628/628 [==============================] - 4s 6ms/step - loss: 1.6203e-04 - mean_squared_error: 1.6203e-04 - mean_absolute_error: 0.0075 - val_loss: 2.2750e-05 - val_mean_squared_error: 2.2750e-05 - val_mean_absolute_error: 0.0031\n",
      "Epoch 25/30\n",
      "628/628 [==============================] - 4s 6ms/step - loss: 1.5974e-04 - mean_squared_error: 1.5974e-04 - mean_absolute_error: 0.0072 - val_loss: 3.0585e-05 - val_mean_squared_error: 3.0585e-05 - val_mean_absolute_error: 0.0040\n",
      "Epoch 26/30\n",
      "628/628 [==============================] - 4s 6ms/step - loss: 1.6867e-04 - mean_squared_error: 1.6867e-04 - mean_absolute_error: 0.0074 - val_loss: 5.7267e-05 - val_mean_squared_error: 5.7267e-05 - val_mean_absolute_error: 0.0056\n",
      "Epoch 27/30\n",
      "628/628 [==============================] - 4s 6ms/step - loss: 2.3993e-04 - mean_squared_error: 2.3993e-04 - mean_absolute_error: 0.0089 - val_loss: 3.2800e-05 - val_mean_squared_error: 3.2800e-05 - val_mean_absolute_error: 0.0041\n",
      "Epoch 28/30\n",
      "628/628 [==============================] - 4s 6ms/step - loss: 1.6772e-04 - mean_squared_error: 1.6772e-04 - mean_absolute_error: 0.0075 - val_loss: 2.6752e-05 - val_mean_squared_error: 2.6752e-05 - val_mean_absolute_error: 0.0034\n",
      "Epoch 29/30\n",
      "628/628 [==============================] - 4s 6ms/step - loss: 1.6460e-04 - mean_squared_error: 1.6460e-04 - mean_absolute_error: 0.0074 - val_loss: 3.2010e-05 - val_mean_squared_error: 3.2010e-05 - val_mean_absolute_error: 0.0045\n",
      "Epoch 30/30\n",
      "628/628 [==============================] - 4s 6ms/step - loss: 1.5900e-04 - mean_squared_error: 1.5900e-04 - mean_absolute_error: 0.0074 - val_loss: 1.3438e-05 - val_mean_squared_error: 1.3438e-05 - val_mean_absolute_error: 0.0023\n"
     ]
    },
    {
     "data": {
      "text/plain": [
       "<tensorflow.python.keras.callbacks.History at 0x7fad51b04100>"
      ]
     },
     "execution_count": 327,
     "metadata": {},
     "output_type": "execute_result"
    }
   ],
   "source": [
    "model.fit((X_train, X_state_train), y_train, epochs=30, batch_size=16, validation_data=((X_test, X_state_test), y_test))"
   ]
  },
  {
   "cell_type": "code",
   "execution_count": 426,
   "metadata": {},
   "outputs": [],
   "source": [
    "a = 10574\n",
    "b = 10832\n",
    "e_s = model.predict((X[a:b], X_state[a:b]))\n",
    "y_s = y[a:b]"
   ]
  },
  {
   "cell_type": "code",
   "execution_count": 427,
   "metadata": {},
   "outputs": [
    {
     "data": {
      "image/png": "[encoded data removed]",
      "text/plain": [
       "<Figure size 432x288 with 1 Axes>"
      ]
     },
     "metadata": {
      "needs_background": "light"
     },
     "output_type": "display_data"
    }
   ],
   "source": [
    "import matplotlib.pyplot as plt\n",
    "mi = 0\n",
    "ma = np.max(df[\"cases\"])\n",
    "r = ma - mi\n",
    "plt.plot(y_s[:,6] * r + mi)[0].set_label(\"DE (Ground Truth)\")\n",
    "plt.plot(e_s[:,6] * r + mi)[0].set_label(\"DE (Prediction - 7 days ago)\")\n",
    "plt.xlabel(\"Days Since March 1\")\n",
    "plt.ylabel(\"Daily Cases\")\n",
    "plt.xticks(range(0, len(cases_fl), 70), labels=(\"March 1\", \"May 10\", \"July 19\", \"September 27\", \"December 6\"))\n",
    "plt.legend()\n",
    "plt.show()"
   ]
  },
  {
   "cell_type": "code",
   "execution_count": 366,
   "metadata": {},
   "outputs": [
    {
     "name": "stdout",
     "output_type": "stream",
     "text": [
      "4568.857142857143\n"
     ]
    }
   ],
   "source": [
    "ex_i = 16\n",
    "e_u = model.predict((X_u, X_su))\n",
    "e_i = model.predict((np.array([X_u[ex_i]]), np.array([X_su[ex_i]])))[0]\n",
    "y_i = y_u[ex_i]\n",
    "print(X_u[ex_i][13][0] * r + mi)"
   ]
  },
  {
   "cell_type": "code",
   "execution_count": 416,
   "metadata": {},
   "outputs": [
    {
     "data": {
      "image/png": "[encoded data removed]",
      "text/plain": [
       "<Figure size 432x288 with 1 Axes>"
      ]
     },
     "metadata": {
      "needs_background": "light"
     },
     "output_type": "display_data"
    }
   ],
   "source": [
    "next_days = [4336, 4427, 4300, 4364, 4530, 4095, 4034]\n",
    "plt.plot(next_days)[0].set_label(\"WY (Ground Truth)\")\n",
    "plt.plot(e_i[:7] * r + mi)[0].set_label(\"WY (Predicted)\")\n",
    "plt.xlabel(\"Days Since March 1\")\n",
    "plt.ylabel(\"Daily Cases\")\n",
    "plt.xticks(range(0, len(cases_fl), 70), labels=(\"March 1\", \"May 10\", \"July 19\", \"September 27\", \"December 6\"))\n",
    "plt.show()"
   ]
  },
  {
   "cell_type": "code",
   "execution_count": 153,
   "metadata": {},
   "outputs": [
    {
     "data": {
      "text/plain": [
       "array([[0.02118512, 0.02145075, 0.02149667, ..., 0.02592718, 0.02719304,\n",
       "        0.02814407],\n",
       "       [0.02145075, 0.02149667, 0.02169015, ..., 0.02719304, 0.02814407,\n",
       "        0.02944601],\n",
       "       [0.02149667, 0.02169015, 0.02208696, ..., 0.02814407, 0.02944601,\n",
       "        0.02953127],\n",
       "       ...,\n",
       "       [0.04280313, 0.04477406, 0.04566935, ..., 0.04779442, 0.04693849,\n",
       "        0.0482601 ],\n",
       "       [0.04477406, 0.04566935, 0.04660727, ..., 0.04693849, 0.0482601 ,\n",
       "        0.04932263],\n",
       "       [0.04566935, 0.04660727, 0.04646297, ..., 0.0482601 , 0.04932263,\n",
       "        0.04915866]])"
      ]
     },
     "execution_count": 153,
     "metadata": {},
     "output_type": "execute_result"
    }
   ],
   "source": [
    "y"
   ]
  },
  {
   "cell_type": "code",
   "execution_count": 87,
   "metadata": {},
   "outputs": [
    {
     "data": {
      "text/plain": [
       "array([[0.02944601, 0.02953127, 0.02869502, ..., 0.02934762, 0.02901312,\n",
       "        0.02838019],\n",
       "       [0.02953127, 0.02869502, 0.02928531, ..., 0.02901312, 0.02838019,\n",
       "        0.02739964],\n",
       "       [0.02869502, 0.02928531, 0.03051182, ..., 0.02838019, 0.02739964,\n",
       "        0.02652403],\n",
       "       ...,\n",
       "       [0.02464164, 0.02637974, 0.02745539, ..., 0.04127819, 0.04301957,\n",
       "        0.04421656],\n",
       "       [0.02637974, 0.02745539, 0.02860319, ..., 0.04301957, 0.04421656,\n",
       "        0.04599729],\n",
       "       [0.02745539, 0.02860319, 0.03113491, ..., 0.04421656, 0.04599729,\n",
       "        0.04805349]])"
      ]
     },
     "execution_count": 87,
     "metadata": {},
     "output_type": "execute_result"
    }
   ],
   "source": [
    "y_s"
   ]
  },
  {
   "cell_type": "code",
   "execution_count": 338,
   "metadata": {},
   "outputs": [
    {
     "name": "stderr",
     "output_type": "stream",
     "text": [
      "WARNING:absl:Found untraced functions such as lstm_cell_35_layer_call_fn, lstm_cell_35_layer_call_and_return_conditional_losses, lstm_cell_36_layer_call_fn, lstm_cell_36_layer_call_and_return_conditional_losses, lstm_cell_35_layer_call_fn while saving (showing 5 of 10). These functions will not be directly callable after loading.\n",
      "WARNING:absl:Found untraced functions such as lstm_cell_35_layer_call_fn, lstm_cell_35_layer_call_and_return_conditional_losses, lstm_cell_36_layer_call_fn, lstm_cell_36_layer_call_and_return_conditional_losses, lstm_cell_35_layer_call_fn while saving (showing 5 of 10). These functions will not be directly callable after loading.\n"
     ]
    },
    {
     "name": "stdout",
     "output_type": "stream",
     "text": [
      "INFO:tensorflow:Assets written to: lstmpred2/assets\n"
     ]
    },
    {
     "name": "stderr",
     "output_type": "stream",
     "text": [
      "INFO:tensorflow:Assets written to: lstmpred2/assets\n"
     ]
    }
   ],
   "source": [
    "model.save(\"lstmpred2\")"
   ]
  },
  {
   "cell_type": "code",
   "execution_count": 252,
   "metadata": {},
   "outputs": [
    {
     "data": {
      "text/plain": [
       "174.2462857142857"
      ]
     },
     "execution_count": 252,
     "metadata": {},
     "output_type": "execute_result"
    }
   ],
   "source": [
    "0.0040 * r"
   ]
  },
  {
   "cell_type": "code",
   "execution_count": 375,
   "metadata": {},
   "outputs": [],
   "source": [
    "cases_nj = df[df[\"state\"] == \"New Jersey\"][\"cases\"].reset_index()[\"cases\"]\n",
    "cases_ny = df[df[\"state\"] == \"New York\"][\"cases\"].reset_index()[\"cases\"]\n",
    "cases_fl = df[df[\"state\"] == \"Florida\"][\"cases\"].reset_index()[\"cases\"]"
   ]
  },
  {
   "cell_type": "code",
   "execution_count": 376,
   "metadata": {},
   "outputs": [],
   "source": [
    "nj_last14 = e_u[16] * r + mi\n",
    "ny_last14 = e_u[11] * r + mi\n",
    "fl_last14 = e_u[10] * r + mi"
   ]
  },
  {
   "cell_type": "code",
   "execution_count": 413,
   "metadata": {},
   "outputs": [
    {
     "data": {
      "image/png": "[encoded data removed]",
      "text/plain": [
       "<Figure size 432x288 with 1 Axes>"
      ]
     },
     "metadata": {
      "needs_background": "light"
     },
     "output_type": "display_data"
    }
   ],
   "source": [
    "plt.plot(cases_nj)[0].set_label(\"NJ (Ground Truth)\")\n",
    "plt.plot(list(range(len(cases_nj) - 14, len(cases_nj))), nj_last14)[0].set_label(\"NJ (Predicted)\")\n",
    "plt.vlines(x=len(cases_nj) - 14, ymin=min(cases_nj[-14:]) - 500, ymax=max(cases_nj[-14:]) + 500, colors='k', linestyles='dashed')\n",
    "#plt.plot(cases_ny)[0].set_label(\"NY (Ground Truth)\")\n",
    "#plt.plot(list(range(len(cases_nj) - 14, len(cases_nj))), ny_last14)[0].set_label(\"NY (Predicted)\")\n",
    "plt.plot(cases_fl)[0].set_label(\"FL (Ground Truth)\")\n",
    "plt.plot(list(range(len(cases_fl) - 14, len(cases_fl))), fl_last14)[0].set_label(\"FL (Predicted)\")\n",
    "plt.vlines(x=len(cases_fl) - 14, ymin=min(cases_fl[-14:]) - 500, ymax=max(cases_fl[-14:]) + 500, colors='k', linestyles='dashed')\n",
    "plt.xlabel(\"Days Since March 1\")\n",
    "plt.ylabel(\"Daily Cases\")\n",
    "plt.xticks(range(0, len(cases_fl), 70), labels=(\"March 1\", \"May 10\", \"July 19\", \"September 27\", \"December 6\"))\n",
    "plt.legend()\n",
    "plt.show()"
   ]
  },
  {
   "cell_type": "code",
   "execution_count": 421,
   "metadata": {},
   "outputs": [
    {
     "data": {
      "text/plain": [
       "98.2445"
      ]
     },
     "execution_count": 421,
     "metadata": {},
     "output_type": "execute_result"
    }
   ],
   "source": [
    "0.0023 * r"
   ]
  },
  {
   "cell_type": "code",
   "execution_count": null,
   "metadata": {},
   "outputs": [],
   "source": []
  },
  {
   "cell_type": "code",
   "execution_count": null,
   "metadata": {},
   "outputs": [],
   "source": []
  }
 ],
 "metadata": {
  "kernelspec": {
   "display_name": "Python 3",
   "language": "python",
   "name": "python3"
  },
  "language_info": {
   "codemirror_mode": {
    "name": "ipython",
    "version": 3
   },
   "file_extension": ".py",
   "mimetype": "text/x-python",
   "name": "python",
   "nbconvert_exporter": "python",
   "pygments_lexer": "ipython3",
   "version": "3.8.5"
  }
 },
 "nbformat": 4,
 "nbformat_minor": 4
}
