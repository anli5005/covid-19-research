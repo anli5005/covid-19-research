{
 "cells": [
  {
   "cell_type": "code",
   "execution_count": 1,
   "metadata": {},
   "outputs": [],
   "source": [
    "import numpy as np\n",
    "import pandas as pd\n",
    "import sys\n",
    "import json\n",
    "import math\n",
    "from scipy import stats\n",
    "from sklearn.feature_selection import chi2"
   ]
  },
  {
   "cell_type": "code",
   "execution_count": 2,
   "metadata": {},
   "outputs": [],
   "source": [
    "df = pd.read_csv(\"data2.csv\")"
   ]
  },
  {
   "cell_type": "code",
   "execution_count": 4,
   "metadata": {},
   "outputs": [
    {
     "name": "stdout",
     "output_type": "stream",
     "text": [
      "tsa\n",
      "visits_hotels\n",
      "visits_restaurants\n",
      "visits_retail\n",
      "visits_personal_care\n",
      "visits_gyms\n",
      "visits_health\n",
      "temperature\n",
      "flu\n",
      "soc_dist\n",
      "tests\n",
      "hospitalized\n",
      "tsa: 344.94402497959, 1.131528270455597e-61\n",
      "visits_hotels: 760.6591243082748, 4.8922334618520204e-149\n",
      "visits_restaurants: 892.3300613729139, 4.846437787116387e-177\n",
      "visits_retail: 890.5194463123871, 1.1779091289903253e-176\n",
      "visits_personal_care: 767.6663973416748, 1.5909549678245954e-150\n",
      "visits_gyms: 950.9994757470407, 1.5138013257443972e-189\n",
      "visits_health: 873.3141432850732, 5.4367813493502336e-173\n",
      "temperature: 325.3335118299969, 1.2511437922969595e-57\n",
      "flu: 329.37870356445706, 1.8375197506171824e-58\n",
      "soc_dist: 198.83101082269968, 5.81462583837997e-32\n",
      "tests: 1273.6445843612348, 1.5666111379523762e-258\n",
      "hospitalized: 791.9687093254844, 1.0945345589914037e-155\n"
     ]
    },
    {
     "name": "stderr",
     "output_type": "stream",
     "text": [
      "/home/anli5005/miniconda3/envs/r/lib/python3.8/site-packages/sklearn/utils/validation.py:63: FutureWarning: Arrays of bytes/strings is being converted to decimal numbers if dtype='numeric'. This behavior is deprecated in 0.24 and will be removed in 1.1 (renaming of 0.26). Please convert your data to numeric values explicitly instead.\n",
      "  return f(*args, **kwargs)\n"
     ]
    }
   ],
   "source": [
    "df.rename(columns={\"class\": \"case_class\"}, inplace=True)\n",
    "\n",
    "cols = [\"tsa\", \"visits_hotels\", \"visits_restaurants\", \"visits_retail\", \"visits_personal_care\", \"visits_gyms\", \"visits_health\", \"temperature\", \"flu\", \"soc_dist\", \"tests\", \"hospitalized\"]\n",
    "df_m = df.sample(frac=0.15) # accidentally reported this as 15%\n",
    "data_df = pd.DataFrame(columns=cols)\n",
    "\n",
    "for var in cols:\n",
    "    print(var)\n",
    "    if var == \"hospitalized\":\n",
    "        data_df[var] = pd.qcut(df_m[var], [0, 0.5, 0.625, 0.75, 0.875, 1], labels=[0, 1, 2, 3, 4], duplicates=\"drop\")\n",
    "    else:\n",
    "        data_df[var] = pd.qcut(df_m[var], 5, labels=[0, 1, 2, 3, 4])\n",
    "\n",
    "r = chi2(data_df, df_m[\"case_class\"])\n",
    "x = r[0]\n",
    "p = r[1]\n",
    "i = 0\n",
    "for var in cols:\n",
    "    print(\"%s: %s, %s\" % (var, x[i], p[i]))\n",
    "    i += 1"
   ]
  },
  {
   "cell_type": "code",
   "execution_count": null,
   "metadata": {},
   "outputs": [],
   "source": []
  }
 ],
 "metadata": {
  "kernelspec": {
   "display_name": "Python 3",
   "language": "python",
   "name": "python3"
  },
  "language_info": {
   "codemirror_mode": {
    "name": "ipython",
    "version": 3
   },
   "file_extension": ".py",
   "mimetype": "text/x-python",
   "name": "python",
   "nbconvert_exporter": "python",
   "pygments_lexer": "ipython3",
   "version": "3.8.5"
  }
 },
 "nbformat": 4,
 "nbformat_minor": 4
}
