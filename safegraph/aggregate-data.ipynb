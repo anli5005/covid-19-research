{
 "cells": [
  {
   "cell_type": "code",
   "execution_count": 1,
   "metadata": {},
   "outputs": [],
   "source": [
    "places = open(\"places.csv\", \"r\")\n",
    "types = {}\n",
    "line = places.readline()\n",
    "line = places.readline()\n",
    "while line != \"\":\n",
    "    parts = line.split(\",\")\n",
    "    types[parts[0]] = int(parts[1])\n",
    "    line = places.readline()\n",
    "places.close()"
   ]
  },
  {
   "cell_type": "code",
   "execution_count": 2,
   "metadata": {},
   "outputs": [],
   "source": [
    "import gzip\n",
    "import csv\n",
    "import sys\n",
    "import json"
   ]
  },
  {
   "cell_type": "code",
   "execution_count": 3,
   "metadata": {},
   "outputs": [],
   "source": [
    "def sum_data(inp, out):\n",
    "    print(inp)\n",
    "    f = gzip.open(\"safegraph-data/\" + inp + \".csv.gz\", mode=\"rt\")\n",
    "    csv.field_size_limit(sys.maxsize)\n",
    "    c = csv.DictReader(f,delimiter=\",\",quotechar='\"')\n",
    "    sums = []\n",
    "    num_skipped = 0\n",
    "    i = 0\n",
    "    for row in c:\n",
    "        key = row[\"safegraph_place_id\"]\n",
    "        if key in types:\n",
    "            typ = types[key]\n",
    "            region = row[\"region\"]\n",
    "            visits = [int(x) for x in row[\"visits_by_day\"][1:-1].split(\",\")]\n",
    "            for j in range(len(visits)):\n",
    "                if j >= len(sums):\n",
    "                    sums.append([{}, {}, {}, {}, {}, {}])\n",
    "                if region not in sums[j][typ]:\n",
    "                    sums[j][typ][region] = visits[j]\n",
    "                else:\n",
    "                    sums[j][typ][region] += visits[j]\n",
    "        else:\n",
    "            num_skipped += 1\n",
    "        i += 1\n",
    "        if i % 100000 == 0:\n",
    "            print(\"Done %d\" % i)\n",
    "    f.close()\n",
    "    with open(out + \".json\", \"a\") as outfile:\n",
    "        json.dump(sums, outfile)"
   ]
  },
  {
   "cell_type": "code",
   "execution_count": null,
   "metadata": {},
   "outputs": [
    {
     "name": "stdout",
     "output_type": "stream",
     "text": [
      "2020-01-part1\n",
      "Done 100000\n",
      "Done 200000\n",
      "Done 300000\n",
      "Done 400000\n",
      "Done 500000\n",
      "Done 600000\n",
      "Done 700000\n",
      "Done 800000\n",
      "Done 900000\n",
      "Done 1000000\n",
      "2020-01-part2\n",
      "Done 100000\n",
      "Done 200000\n",
      "Done 300000\n",
      "Done 400000\n",
      "Done 500000\n",
      "Done 600000\n",
      "Done 700000\n",
      "Done 800000\n",
      "Done 900000\n",
      "Done 1000000\n",
      "2020-01-part3\n",
      "Done 100000\n",
      "Done 200000\n",
      "Done 300000\n",
      "Done 400000\n",
      "Done 500000\n",
      "Done 600000\n",
      "Done 700000\n",
      "Done 800000\n",
      "Done 900000\n",
      "Done 1000000\n",
      "2020-01-part4\n",
      "Done 100000\n",
      "Done 200000\n",
      "Done 300000\n",
      "Done 400000\n",
      "Done 500000\n",
      "Done 600000\n",
      "Done 700000\n",
      "Done 800000\n",
      "Done 900000\n",
      "Done 1000000\n"
     ]
    }
   ],
   "source": [
    "sum_data(\"2020-01-part1\", \"sums-2020-01\")\n",
    "sum_data(\"2020-01-part2\", \"sums-2020-01\")\n",
    "sum_data(\"2020-01-part3\", \"sums-2020-01\")\n",
    "sum_data(\"2020-01-part4\", \"sums-2020-01\")\n",
    "# ...and so on"
   ]
  }
 ],
 "metadata": {
  "kernelspec": {
   "display_name": "Python 3",
   "language": "python",
   "name": "python3"
  },
  "language_info": {
   "codemirror_mode": {
    "name": "ipython",
    "version": 3
   },
   "file_extension": ".py",
   "mimetype": "text/x-python",
   "name": "python",
   "nbconvert_exporter": "python",
   "pygments_lexer": "ipython3",
   "version": "3.8.5"
  }
 },
 "nbformat": 4,
 "nbformat_minor": 4
}
