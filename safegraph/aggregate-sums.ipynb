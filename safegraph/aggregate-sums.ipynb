{
 "cells": [
  {
   "cell_type": "code",
   "execution_count": 19,
   "metadata": {},
   "outputs": [],
   "source": [
    "import json"
   ]
  },
  {
   "cell_type": "code",
   "execution_count": 25,
   "metadata": {},
   "outputs": [],
   "source": [
    "sums = [{}, {}, {}, {}, {}, {}]\n",
    "def process_sum(name):\n",
    "    partial_sums = {}\n",
    "    with open(name, \"r\") as f:\n",
    "        line = f.read().split(\"}]]\")\n",
    "        for part in line:\n",
    "            if part == \"\":\n",
    "                break\n",
    "            parsed = json.loads(part + \"}]]\")\n",
    "            for i in range(len(parsed)):\n",
    "                for typ in range(6):\n",
    "                    for key in parsed[i][typ].keys():\n",
    "                        if key not in partial_sums:\n",
    "                            partial_sums[key] = [[], [], [], [], [], []]\n",
    "                        while i >= len(partial_sums[key][typ]):\n",
    "                            partial_sums[key][typ].append(0)\n",
    "                        partial_sums[key][typ][i] += parsed[i][typ][key]\n",
    "    for i in range(6):\n",
    "        for key in partial_sums.keys():\n",
    "            if key == \"GU\" or key == \"VI\" or key == \"AS\":\n",
    "                continue\n",
    "            if key not in sums[i]:\n",
    "                sums[i][key] = []\n",
    "            sums[i][key].extend(partial_sums[key][i])"
   ]
  },
  {
   "cell_type": "code",
   "execution_count": 26,
   "metadata": {},
   "outputs": [],
   "source": [
    "process_sum(\"sums-2020-01.json\")\n",
    "process_sum(\"sums-2020-02.json\")\n",
    "process_sum(\"sums-2020-03.json\")\n",
    "process_sum(\"sums-2020-04.json\")\n",
    "process_sum(\"sums-2020-06.json\")\n",
    "process_sum(\"sums-2020-07.json\")\n",
    "process_sum(\"sums-2020-08.json\")\n",
    "process_sum(\"sums-2020-09.json\")\n",
    "process_sum(\"sums-2020-10.json\")\n",
    "process_sum(\"sums-2020-11.json\")\n",
    "process_sum(\"sums-2020-12.json\")\n",
    "process_sum(\"sums-2021-01.json\")"
   ]
  },
  {
   "cell_type": "code",
   "execution_count": 28,
   "metadata": {},
   "outputs": [
    {
     "name": "stdout",
     "output_type": "stream",
     "text": [
      "TN => 366\n",
      "UT => 366\n",
      "TX => 366\n",
      "OK => 366\n",
      "VA => 366\n",
      "AZ => 366\n",
      "HI => 366\n",
      "OH => 366\n",
      "FL => 366\n",
      "MI => 366\n",
      "CA => 366\n",
      "NE => 366\n",
      "MN => 366\n",
      "WA => 366\n",
      "ID => 366\n",
      "NC => 366\n",
      "AK => 366\n",
      "NV => 366\n",
      "AR => 366\n",
      "MS => 366\n",
      "SD => 366\n",
      "NY => 366\n",
      "LA => 366\n",
      "KS => 366\n",
      "OR => 366\n",
      "MO => 366\n",
      "IL => 366\n",
      "WI => 366\n",
      "SC => 366\n",
      "IA => 366\n",
      "CO => 366\n",
      "PA => 366\n",
      "MA => 366\n",
      "WY => 366\n",
      "WV => 366\n",
      "VT => 366\n",
      "GA => 366\n",
      "NJ => 366\n",
      "NM => 366\n",
      "AL => 366\n",
      "IN => 366\n",
      "NH => 366\n",
      "MD => 366\n",
      "DE => 366\n",
      "ND => 366\n",
      "MT => 366\n",
      "KY => 366\n",
      "RI => 366\n",
      "ME => 366\n",
      "CT => 366\n",
      "DC => 366\n",
      "PR => 366\n"
     ]
    }
   ],
   "source": [
    "for key in sums[0].keys():\n",
    "    print(\"%s => %d\" % (key, len(sums[0][key])))"
   ]
  },
  {
   "cell_type": "code",
   "execution_count": 29,
   "metadata": {},
   "outputs": [],
   "source": [
    "with open(\"sums.json\", \"w\") as f:\n",
    "    json.dump(sums, f)"
   ]
  }
 ],
 "metadata": {
  "kernelspec": {
   "display_name": "Python 3",
   "language": "python",
   "name": "python3"
  },
  "language_info": {
   "codemirror_mode": {
    "name": "ipython",
    "version": 3
   },
   "file_extension": ".py",
   "mimetype": "text/x-python",
   "name": "python",
   "nbconvert_exporter": "python",
   "pygments_lexer": "ipython3",
   "version": "3.8.5"
  }
 },
 "nbformat": 4,
 "nbformat_minor": 4
}
